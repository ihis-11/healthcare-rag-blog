{
 "cells": [
  {
   "cell_type": "markdown",
   "metadata": {},
   "source": [
    "# Building a RAG application using LangChain, Timescale, and Claude 3 Opus"
   ]
  },
  {
   "cell_type": "markdown",
   "metadata": {},
   "source": [
    "## Data Preprocessing and Loading\n",
    "In this section, I used the MedQuad dataset from [Kaggle](https://www.kaggle.com/datasets/jpmiller/layoutlm?select=medquad.csv) which has 16412 entries about different human diseases. I extracted the first 250 entries and saved it as the knowledge base. I omitted the question column to reduce the number of chunks generated and the repetitiveness among chunks. Here is a snapshot of the MedQuad dataset: "
   ]
  },
  {
   "cell_type": "code",
   "execution_count": 33,
   "metadata": {},
   "outputs": [
    {
     "data": {
      "text/html": [
       "<div>\n",
       "<style scoped>\n",
       "    .dataframe tbody tr th:only-of-type {\n",
       "        vertical-align: middle;\n",
       "    }\n",
       "\n",
       "    .dataframe tbody tr th {\n",
       "        vertical-align: top;\n",
       "    }\n",
       "\n",
       "    .dataframe thead th {\n",
       "        text-align: right;\n",
       "    }\n",
       "</style>\n",
       "<table border=\"1\" class=\"dataframe\">\n",
       "  <thead>\n",
       "    <tr style=\"text-align: right;\">\n",
       "      <th></th>\n",
       "      <th>question</th>\n",
       "      <th>answer</th>\n",
       "      <th>source</th>\n",
       "      <th>focus_area</th>\n",
       "    </tr>\n",
       "  </thead>\n",
       "  <tbody>\n",
       "    <tr>\n",
       "      <th>0</th>\n",
       "      <td>What is (are) Glaucoma ?</td>\n",
       "      <td>Glaucoma is a group of diseases that can damag...</td>\n",
       "      <td>NIHSeniorHealth</td>\n",
       "      <td>Glaucoma</td>\n",
       "    </tr>\n",
       "    <tr>\n",
       "      <th>1</th>\n",
       "      <td>What causes Glaucoma ?</td>\n",
       "      <td>Nearly 2.7 million people have glaucoma, a lea...</td>\n",
       "      <td>NIHSeniorHealth</td>\n",
       "      <td>Glaucoma</td>\n",
       "    </tr>\n",
       "    <tr>\n",
       "      <th>2</th>\n",
       "      <td>What are the symptoms of Glaucoma ?</td>\n",
       "      <td>Symptoms of Glaucoma  Glaucoma can develop in ...</td>\n",
       "      <td>NIHSeniorHealth</td>\n",
       "      <td>Glaucoma</td>\n",
       "    </tr>\n",
       "    <tr>\n",
       "      <th>3</th>\n",
       "      <td>What are the treatments for Glaucoma ?</td>\n",
       "      <td>Although open-angle glaucoma cannot be cured, ...</td>\n",
       "      <td>NIHSeniorHealth</td>\n",
       "      <td>Glaucoma</td>\n",
       "    </tr>\n",
       "    <tr>\n",
       "      <th>4</th>\n",
       "      <td>What is (are) Glaucoma ?</td>\n",
       "      <td>Glaucoma is a group of diseases that can damag...</td>\n",
       "      <td>NIHSeniorHealth</td>\n",
       "      <td>Glaucoma</td>\n",
       "    </tr>\n",
       "  </tbody>\n",
       "</table>\n",
       "</div>"
      ],
      "text/plain": [
       "                                 question  \\\n",
       "0                What is (are) Glaucoma ?   \n",
       "1                  What causes Glaucoma ?   \n",
       "2     What are the symptoms of Glaucoma ?   \n",
       "3  What are the treatments for Glaucoma ?   \n",
       "4                What is (are) Glaucoma ?   \n",
       "\n",
       "                                              answer           source  \\\n",
       "0  Glaucoma is a group of diseases that can damag...  NIHSeniorHealth   \n",
       "1  Nearly 2.7 million people have glaucoma, a lea...  NIHSeniorHealth   \n",
       "2  Symptoms of Glaucoma  Glaucoma can develop in ...  NIHSeniorHealth   \n",
       "3  Although open-angle glaucoma cannot be cured, ...  NIHSeniorHealth   \n",
       "4  Glaucoma is a group of diseases that can damag...  NIHSeniorHealth   \n",
       "\n",
       "  focus_area  \n",
       "0   Glaucoma  \n",
       "1   Glaucoma  \n",
       "2   Glaucoma  \n",
       "3   Glaucoma  \n",
       "4   Glaucoma  "
      ]
     },
     "execution_count": 33,
     "metadata": {},
     "output_type": "execute_result"
    }
   ],
   "source": [
    "import pandas as pd\n",
    "\n",
    "medquad_dataset = pd.read_csv(\"medquad.csv\")\n",
    "medquad_dataset.head()"
   ]
  },
  {
   "cell_type": "code",
   "execution_count": 34,
   "metadata": {},
   "outputs": [
    {
     "data": {
      "text/plain": [
       "0    Glaucoma is a group of diseases that can damag...\n",
       "1    Nearly 2.7 million people have glaucoma, a lea...\n",
       "2    Symptoms of Glaucoma  Glaucoma can develop in ...\n",
       "3    Although open-angle glaucoma cannot be cured, ...\n",
       "4    Glaucoma is a group of diseases that can damag...\n",
       "Name: answer, dtype: object"
      ]
     },
     "execution_count": 34,
     "metadata": {},
     "output_type": "execute_result"
    }
   ],
   "source": [
    "medquad_subset = medquad_dataset['answer'].head(250)\n",
    "medquad_subset.to_csv('medquad_250.csv', sep=',', index=False, encoding='utf-8')\n",
    "medquad_subset.head()"
   ]
  },
  {
   "cell_type": "markdown",
   "metadata": {},
   "source": [
    "## Document Chunking with LangChain\n",
    "\n",
    "In this step, I used `RecursiveCharacterTextSplitter` to combine text into larger units to preserve context then split them into smaller segments for easy processing as we input it in the embedding model. "
   ]
  },
  {
   "cell_type": "code",
   "execution_count": null,
   "metadata": {},
   "outputs": [],
   "source": [
    "# Install necessary packages\n",
    "%pip install langchain openai tiktoken "
   ]
  },
  {
   "cell_type": "code",
   "execution_count": 41,
   "metadata": {},
   "outputs": [
    {
     "data": {
      "text/plain": [
       "[Document(page_content=\"answer: Glaucoma is a group of diseases that can damage the eye's optic nerve and result in vision loss and blindness. While glaucoma can strike anyone, the risk is much greater for people over 60. How Glaucoma Develops  There are several different types of glaucoma. Most of these involve the drainage system within the eye. At the front of the eye there is a small space called the anterior chamber. A clear fluid flows through this chamber and bathes and nourishes the nearby tissues. (Watch the video to learn more about glaucoma. To enlarge the video, click the brackets in the lower right-hand corner. To reduce the video, press the Escape (Esc) button on your keyboard.) In glaucoma, for still unknown reasons, the fluid drains too slowly out of the eye. As the fluid builds up, the pressure inside the eye rises. Unless this pressure is controlled, it may cause damage to the optic nerve and other parts of the eye and result in loss of vision. Open-angle Glaucoma The most common type of glaucoma is called open-angle glaucoma. In the normal eye, the clear fluid leaves the anterior chamber at the open angle where the cornea and iris meet. When fluid reaches the angle, it flows through a spongy meshwork, like a drain, and leaves the eye. Sometimes, when the fluid reaches the angle, it passes too slowly through the meshwork drain, causing the pressure inside the eye to build. If the pressure damages the optic nerve, open-angle glaucoma -- and vision loss -- may result. There is no\"),\n",
       " Document(page_content='pressure damages the optic nerve, open-angle glaucoma -- and vision loss -- may result. There is no cure for glaucoma. Vision lost from the disease cannot be restored. However, there are treatments that may save remaining vision. That is why early diagnosis is important.  See this graphic for a quick overview of glaucoma,  including how many people it affects, whos at risk, what to do if you have it, and how to learn more.  See a glossary of glaucoma terms.'),\n",
       " Document(page_content='answer: Nearly 2.7 million people have glaucoma, a leading cause of blindness in the United States. Although anyone can get glaucoma, some people are at higher risk. They include - African-Americans over age 40  - everyone over age 60, especially Hispanics/Latinos  - people with a family history of glaucoma. African-Americans over age 40 everyone over age 60, especially Hispanics/Latinos people with a family history of glaucoma.  In addition to age, eye pressure is a risk factor. Whether you develop glaucoma depends on the level of pressure your optic nerve can tolerate without being damaged. This level is different for each person. Thats why a comprehensive dilated eye exam is very important. It can help your eye care professional determine what level of eye pressure is normal for you. Another risk factor for optic nerve damage relates to blood pressure. Thus, it is important to also make sure that your blood pressure is at a proper level for your body by working with your medical doctor. (Watch the animated video to learn more about the causes of glaucoma. To enlarge the video, click the brackets in the lower right-hand corner. To reduce the video, press the Escape (Esc) button on your keyboard.)'),\n",
       " Document(page_content='answer: Symptoms of Glaucoma  Glaucoma can develop in one or both eyes. The most common type of glaucoma, open-angle glaucoma, has no symptoms at first. It causes no pain, and vision seems normal. Without treatment, people with glaucoma will slowly lose their peripheral, or side vision. They seem to be looking through a tunnel. Over time, straight-ahead vision may decrease until no vision remains. Tests for Glaucoma Glaucoma is detected through a comprehensive eye exam that includes a visual acuity test, visual field test, dilated eye exam, tonometry, and pachymetry. (Watch the animated video to learn more about testing for glaucoma. To enlarge the video, click the brackets in the lower right-hand corner. To reduce the video, press the Escape (Esc) button on your keyboard.)  A visual acuity test uses an eye chart test to measure how well you see at various distances. A visual field test measures your side or peripheral vision. It helps your eye care professional tell if you have lost side vision, a sign of glaucoma. In a dilated eye exam, drops are placed in your eyes to widen, or dilate, the pupils. Your eye care professional uses a special magnifying lens to examine your retina and optic nerve for signs of damage and other eye problems. After the exam, your close-up vision may remain blurred for several hours. In tonometry, an instrument measures the pressure inside the eye. Numbing drops may be applied to your eye for this test. With pachymetry,  a numbing drop is applied'),\n",
       " Document(page_content='Numbing drops may be applied to your eye for this test. With pachymetry,  a numbing drop is applied to your eye. Your eye care professional uses an ultrasonic wave instrument to measure the thickness of your cornea.')]"
      ]
     },
     "execution_count": 41,
     "metadata": {},
     "output_type": "execute_result"
    }
   ],
   "source": [
    "from langchain.document_loaders.csv_loader import CSVLoader\n",
    "from langchain.text_splitter import RecursiveCharacterTextSplitter\n",
    "\n",
    "loader = CSVLoader(file_path='medquad_250.csv',encoding='utf-8',csv_args={'delimiter': ','}) \n",
    "docs = loader.load() \n",
    "\n",
    "Splitter = RecursiveCharacterTextSplitter(chunk_size = 1500, chunk_overlap = 100) \n",
    "chunks = Splitter.create_documents([datum.page_content for datum in docs]) \n",
    "chunks[:5]"
   ]
  },
  {
   "cell_type": "markdown",
   "metadata": {},
   "source": [
    "## Timescale Database Setup & Embedding Model "
   ]
  },
  {
   "cell_type": "code",
   "execution_count": null,
   "metadata": {},
   "outputs": [],
   "source": [
    "%pip install psycopg2 pgvector timescale_vector"
   ]
  },
  {
   "cell_type": "markdown",
   "metadata": {},
   "source": [
    "After creating an account on Timescale, I created a free service as I mentioned above it’s free for the first 90 days. The code chunk below is provided after your service is created and deployed. It makes it easy to use the database even if you don’t have any prior SQL experience."
   ]
  },
  {
   "cell_type": "markdown",
   "metadata": {},
   "source": [
    "### Timescale Database Connection "
   ]
  },
  {
   "cell_type": "code",
   "execution_count": 36,
   "metadata": {},
   "outputs": [
    {
     "name": "stdout",
     "output_type": "stream",
     "text": [
      "('hello world',)\n"
     ]
    }
   ],
   "source": [
    "import psycopg2\n",
    "\n",
    "CONNECTION = \"DATABASE_URL\"\n",
    "conn = psycopg2.connect(CONNECTION)\n",
    "cursor = conn.cursor()\n",
    "# use the cursor to interact with your database\n",
    "cursor.execute(\"SELECT 'hello world'\")\n",
    "print(cursor.fetchone())"
   ]
  },
  {
   "cell_type": "markdown",
   "metadata": {},
   "source": [
    "### Embedding Model Setup\n",
    "\n",
    "I defined my embedding model as `text-embedding-3-large` from OpenAI. As you can observe, I only needed the API key to access the OpenAI model since it is already integrated with LangChain. \n",
    "\n",
    "You can generate an OpenAI API key by following this [tutorial](https://platform.openai.com/docs/quickstart)."
   ]
  },
  {
   "cell_type": "code",
   "execution_count": 37,
   "metadata": {},
   "outputs": [],
   "source": [
    "from langchain_openai import OpenAIEmbeddings\n",
    "embeddings_model = OpenAIEmbeddings(\n",
    "    model=\"text-embedding-3-large\",\n",
    "    api_key = \"your-openai-api-key\"\n",
    ")"
   ]
  },
  {
   "cell_type": "markdown",
   "metadata": {},
   "source": [
    "### Generating Embeddings\n",
    "\n",
    "LangChain and Timescale’s compatibility shines in this part of the code. Using one function, [TimescaleVector.from_documents](https://python.langchain.com/v0.2/docs/integrations/vectorstores/timescalevector/), I was able to generate embeddings for all chunks of code and directly ingest them into my timescale database instance under the table name `human_disorder_embeddings.` This seamless integration is possible because of pgvector’s ability to store and query large numbers of vector embeddings. "
   ]
  },
  {
   "cell_type": "code",
   "execution_count": null,
   "metadata": {},
   "outputs": [],
   "source": [
    "from langchain_community.vectorstores.timescalevector import TimescaleVector\n",
    "\n",
    "# Create a Timescale Vector instance from the collection of documents\n",
    "COLLECTION_NAME = \"human_disorder_embeddings.\"\n",
    "db = TimescaleVector.from_documents(\n",
    "    embedding=embeddings_model,\n",
    "    documents=chunks,\n",
    "    collection_name=COLLECTION_NAME,\n",
    "    service_url=CONNECTION,)"
   ]
  },
  {
   "cell_type": "markdown",
   "metadata": {},
   "source": [
    "### Retrieval Setup\n",
    "In this step, I define a contextual retrieval from the database object which stores the embedding. As you observe, we pass in the type of relationship search the retriever will use. You can also pass in the number of relevant documents to be retrieved for each query. The default number is 4."
   ]
  },
  {
   "cell_type": "code",
   "execution_count": 38,
   "metadata": {},
   "outputs": [],
   "source": [
    "retriever = db.as_retriever(search_type=\"similarity\")"
   ]
  },
  {
   "cell_type": "code",
   "execution_count": 40,
   "metadata": {},
   "outputs": [
    {
     "data": {
      "text/plain": [
       "[Document(page_content=\"answer: Anxiety disorders sometimes run in families, but no one knows for sure why some people have them while others don't. Anxiety disorders are more common among younger adults than older adults, and they typically start in early life. However, anyone can develop an anxiety disorder at any time. Below are risk factors for these anxiety disorders. - Generalized Anxiety Disorder (GAD)  -  Social Anxiety Disorder (Social Phobia)  - Panic Disorder Generalized Anxiety Disorder (GAD) Social Anxiety Disorder (Social Phobia) Panic Disorder Generalized Anxiety Disorder - Risk Factors Generalized anxiety disorder (GAD) affects about 6.8 million American adults, including twice as many women as men. The disorder develops gradually and can begin at any point in the life cycle, although the years of highest risk are between childhood and middle age. The average age of onset is 31 years old. Social Phobia - Risk Factors Social phobia affects about 15 million American adults. Women and men are equally likely to develop the disorder, which usually begins in childhood or early adolescence. There is some evidence that genetic factors are involved. Panic Disorder - Risk Factors Panic disorder affects about 6 million American adults and is twice as common in women as men. Panic attacks often begin in late adolescence or early adulthood, but not everyone who experiences panic attacks will develop panic disorder. Many people have just one attack and never have another. The tendency to develop\"),\n",
       " Document(page_content=\"three types of anxiety disorders discussed here. - generalized anxiety disorder  - social phobia  - panic disorder generalized anxiety disorder social phobia panic disorder Generalized Anxiety Disorder (GAD) All of us worry about things like health, money, or family problems. But people with generalized anxiety disorder (GAD) are extremely worried about these and many other things, even when there is little or no reason to worry about them. They are very anxious about just getting through the day. They think things will always go badly. At times, worrying keeps people with GAD from doing everyday tasks.  Learn more about generalized anxiety disorder (GAD).  Social Phobia In social phobia, a person fears being judged by others or of being embarrassed. This fear can get in the way of doing everyday things such as going to work, running errands, or meeting with friends. People who have social phobia often know that they shouldn't be so afraid, but they can't control their fear.  Learn more about social phobia.  Panic Disorder In panic disorder, a person has sudden, unexplained attacks of terror, and often feels his or her heart pounding. During a panic attack, a person feels a sense of unreality, a fear of impending doom, or a fear of losing control. Panic attacks can occur at any time. Learn more about panic disorder.  Anxiety Disorders Are Treatable In general, anxiety disorders are treated with medication, specific types of psychotherapy, or both. Treatment choices depend on\"),\n",
       " Document(page_content='answer: Occasional anxiety is a normal part of life. You might feel anxious when faced with a problem at work, before taking a test, or making an important decision. However, anxiety disorders involve more than temporary worry or fear. For a person with an anxiety disorder, the anxiety does not go away and can get worse over time. These feelings can interfere with daily activities such as job performance, school work, and relationships. (Watch the video to learn about the types of anxiety disorders. To enlarge the video, click the brackets in the lower right-hand corner. To reduce the video, press the Escape (Esc) button on your keyboard.) Anxiety Disorders in Older Adults Studies estimate that anxiety disorders affect up to 15 percent of older adults in a given year. More women than men experience anxiety disorders. They tend to be less common among older adults than younger adults. But developing an anxiety disorder late in life is not a normal part of aging. Anxiety disorders commonly occur along with other mental or physical illnesses, including alcohol or substance abuse, which may mask anxiety symptoms or make them worse. In older adults, anxiety disorders often occur at the same time as depression, heart disease, diabetes, and other medical problems. In some cases, these other problems need to be treated before a person can respond well to treatment for anxiety. There are three types of anxiety disorders discussed here. - generalized anxiety disorder  - social phobia'),\n",
       " Document(page_content='answer: Anxiety disorders are a collection of disorders that include generalized anxiety disorder (GAD), social phobia, and panic disorder.')]"
      ]
     },
     "execution_count": 40,
     "metadata": {},
     "output_type": "execute_result"
    }
   ],
   "source": [
    "docs_related_to_anxiety_disorder = retriever.invoke(\"elaborate on the causes of anxiety disorders\")\n",
    "docs_related_to_anxiety_disorder"
   ]
  },
  {
   "cell_type": "markdown",
   "metadata": {},
   "source": [
    "## Prompt Creation\n",
    "\n",
    "LangChain enables the developer to define a standardized version of the prompt sent to the LLM using `ChatPromptTemplate` which accepts the LLM’s instructions, the contextual information retrieved and the user’s query. Through this process of crafting prompting, we ensure that the LLM will always have a contextualized prompt."
   ]
  },
  {
   "cell_type": "code",
   "execution_count": null,
   "metadata": {},
   "outputs": [],
   "source": [
    "from langchain.prompts import (\n",
    "    ChatPromptTemplate,\n",
    "    HumanMessagePromptTemplate,\n",
    "    SystemMessagePromptTemplate,\n",
    ")\n",
    "\n",
    "# Define the bot's personality and capabilities\n",
    "bot_instructions = \"\"\"\n",
    "You are a friendly bot capable of providing concise, accurate information about humandiseases and health conditions. \n",
    "Answer questions about descriptions, symptoms, causes, and treatments. Keep your responses brief and simple. \n",
    "\"\"\"\n",
    "\n",
    "# Template for user input and context\n",
    "human_message = \"\"\"\n",
    "This is the relevant information: {context}\n",
    "This is the user input: {query}\n",
    "\"\"\"\n",
    "\n",
    "prompt = ChatPromptTemplate(\n",
    "    messages=[\n",
    "        SystemMessagePromptTemplate.from_template(bot_instructions),\n",
    "        HumanMessagePromptTemplate.from_template(human_message), \n",
    "    ],\n",
    "    input_variables=['context','query'], \n",
    ")"
   ]
  },
  {
   "cell_type": "markdown",
   "metadata": {},
   "source": [
    "## LLM Integration\n",
    "\n",
    "In this last step, I define the LLM model as Anthropic’s Claude 3.0 Opus for the augmented part of the RAG application. This model is the second best in the Claude LLM series and is known as a robust model for reasoning over text and problem-solving.\n",
    "\n",
    "I also implemented the chaining of all the functions that I defined ahead according to the RAG application workflow discussed above as well. We first retrieve contextual documents and the query then form the prompt which is passed to Claude 3.0 Opus for response generation."
   ]
  },
  {
   "cell_type": "code",
   "execution_count": 42,
   "metadata": {},
   "outputs": [],
   "source": [
    "from langchain_anthropic import ChatAnthropic\n",
    "from langchain_core.runnables import RunnablePassthrough\n",
    "\n",
    "model = ChatAnthropic(model='claude-3-opus-20240229', # Specify which Anthropic model to use\n",
    "                      api_key=\"your-anthropic-api-key\")\n",
    "# Define the RAG (Retrieval-Augmented Generation) chain\n",
    "rag = (\n",
    "    {\"context\": retriever, \"query\": RunnablePassthrough()}\n",
    "    | prompt # Apply the prompt template\n",
    "    | model# Send to the LLM model for generation\n",
    ")"
   ]
  },
  {
   "cell_type": "code",
   "execution_count": 43,
   "metadata": {},
   "outputs": [
    {
     "name": "stdout",
     "output_type": "stream",
     "text": [
      "Based on the provided information, here are the key points about who is most affected by anxiety disorders and their leading causes:\n",
      "\n",
      "Who is most affected:\n",
      "- Anxiety disorders are more common in younger adults than older adults.\n",
      "- Women are twice as likely as men to have Generalized Anxiety Disorder (GAD) and Panic Disorder.\n",
      "- Social Anxiety Disorder (Social Phobia) affects women and men equally.\n",
      "- Anxiety disorders affect up to 15% of older adults in a given year.\n",
      "\n",
      "Leading causes and risk factors:\n",
      "- The exact causes are unknown, but anxiety disorders sometimes run in families, suggesting a genetic component.\n",
      "- GAD typically develops gradually between childhood and middle age, with the average onset at 31 years old.\n",
      "- Social Phobia usually begins in childhood or early adolescence.\n",
      "- Panic Disorder often begins in late adolescence or early adulthood.\n",
      "- The tendency to develop panic attacks appears to be inherited.\n"
     ]
    }
   ],
   "source": [
    "claude_output = rag.invoke(\"Tell me about anxiety disorders specifically about who are affected the most and the leading causes.\")\n",
    "print(claude_output.content)"
   ]
  }
 ],
 "metadata": {
  "kernelspec": {
   "display_name": "rag_azure_haystack",
   "language": "python",
   "name": "python3"
  },
  "language_info": {
   "codemirror_mode": {
    "name": "ipython",
    "version": 3
   },
   "file_extension": ".py",
   "mimetype": "text/x-python",
   "name": "python",
   "nbconvert_exporter": "python",
   "pygments_lexer": "ipython3",
   "version": "3.11.9"
  }
 },
 "nbformat": 4,
 "nbformat_minor": 2
}
